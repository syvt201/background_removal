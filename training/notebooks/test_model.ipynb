{
 "cells": [
  {
   "cell_type": "code",
   "execution_count": null,
   "id": "ee64f765",
   "metadata": {},
   "outputs": [],
   "source": [
    "import os\n",
    "\n",
    "# Path to the folder containing images\n",
    "folder_path = \"E:/background-removal/human_data/human_2\"\n",
    "im = os.path.join(folder_path, \"im\")\n",
    "gt = os.path.join(folder_path, \"gt\")\n",
    "\n",
    "# List of image filenames you want to delete\n",
    "im_to_delete = sorted([os.path.join(im, file) for file in os.listdir(im) if file.startswith('p_')])\n",
    "gt_to_delete = sorted([os.path.join(gt, file) for file in os.listdir(gt) if file.startswith('p_')])\n",
    "\n"
   ]
  },
  {
   "cell_type": "code",
   "execution_count": null,
   "id": "f0f06071",
   "metadata": {},
   "outputs": [],
   "source": [
    "\n",
    "for file_path in gt_to_delete:\n",
    "    if os.path.exists(file_path):\n",
    "        os.remove(file_path)\n",
    "        print(f\"Deleted: {os.path.basename(file_path)}\")\n",
    "    else:\n",
    "        print(f\"File not found: {os.path.basename(file_path)}\")"
   ]
  },
  {
   "cell_type": "code",
   "execution_count": null,
   "id": "c7ea2ca3",
   "metadata": {},
   "outputs": [],
   "source": [
    "len(os.listdir(\"E:/background-removal/human_data/human_1/gt\")), \\\n",
    "len(os.listdir(\"E:/background-removal/human_data/human_2/gt\")), \\\n",
    "len(os.listdir(\"E:/background-removal/human_data/supervisely_person_clean_2667_img/masks\"))\n"
   ]
  },
  {
   "cell_type": "code",
   "execution_count": null,
   "id": "f5c9683c",
   "metadata": {},
   "outputs": [],
   "source": [
    "import gradio as gr\n",
    "import numpy as np\n",
    "from PIL import Image, ImageColor\n",
    "\n",
    "def change_color(icon, color):\n",
    "\n",
    "    \"\"\"\n",
    "    Function that given an icon in .png format changes its color\n",
    "    Args:\n",
    "        icon: Icon whose color needs to be changed.\n",
    "        color: Chosen color with which to edit the input icon.\n",
    "    Returns:\n",
    "        edited_image: Edited icon.\n",
    "    \"\"\"\n",
    "    img = icon.convert(\"LA\")\n",
    "    img = img.convert(\"RGBA\")\n",
    "    image_np = np.array(icon)\n",
    "    _, _, _, alpha = image_np.T\n",
    "    mask = alpha > 0\n",
    "    image_np[..., :-1][mask.T] = ImageColor.getcolor(color, \"RGB\")\n",
    "    edited_image = Image.fromarray(image_np)\n",
    "    return edited_image\n",
    "\n",
    "inputs = [\n",
    "    gr.Image(label=\"icon\", type=\"pil\", image_mode=\"RGBA\"),\n",
    "    gr.ColorPicker(label=\"color\"),\n",
    "]\n",
    "outputs = gr.Image(label=\"colored icon\")\n",
    "\n",
    "demo = gr.Interface(\n",
    "    fn=change_color,\n",
    "    inputs=inputs,\n",
    "    outputs=outputs\n",
    ")\n",
    "\n",
    "if __name__ == \"__main__\":\n",
    "    demo.launch()"
   ]
  },
  {
   "cell_type": "code",
   "execution_count": 2,
   "id": "ba16b979",
   "metadata": {},
   "outputs": [],
   "source": [
    "from PIL import Image, ImageFilter\n",
    "import os\n",
    "\n",
    "# image = Image.open('input_image.png')\n",
    "# image = image.filter(ImageFilter.ModeFilter(size=13))\n",
    "# image.save('output_image.png')\n",
    "for image_name in os.listdir(\"../../out\"):\n",
    "    path = os.path.join(\"../../out\", image_name)\n",
    "    image = Image.open(path)\n",
    "    image = image.filter(ImageFilter.ModeFilter(size=13))\n",
    "    image.save(os.path.join(\"../../smooth\", image_name))"
   ]
  }
 ],
 "metadata": {
  "kernelspec": {
   "display_name": "Python 3",
   "language": "python",
   "name": "python3"
  },
  "language_info": {
   "codemirror_mode": {
    "name": "ipython",
    "version": 3
   },
   "file_extension": ".py",
   "mimetype": "text/x-python",
   "name": "python",
   "nbconvert_exporter": "python",
   "pygments_lexer": "ipython3",
   "version": "3.12.6"
  }
 },
 "nbformat": 4,
 "nbformat_minor": 5
}
